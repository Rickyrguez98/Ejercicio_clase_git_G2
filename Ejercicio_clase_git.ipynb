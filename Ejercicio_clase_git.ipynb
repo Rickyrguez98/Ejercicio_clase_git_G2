{
 "cells": [
  {
   "cell_type": "markdown",
   "metadata": {},
   "source": [
    "# Actividad clase git"
   ]
  },
  {
   "cell_type": "markdown",
   "metadata": {},
   "source": [
    "# 1\n",
    "La sucesión de Fibonacci se define de la siguiente forma: a1=1, a2=1 y an=an-1+an-2 para n>2, es decir los dos primeros son 1 y el resto cada uno es la suma de los dos anteriores, los primeros son: 1, 1, 2, 3, 5, 8, 13, 21, ... Hacer un diagrama de flujo para calcular el Nésimo término de la sucesión.\n",
    "\n",
    "# 2 \n",
    "Elabora un programa que solicite la medida en Pies y realice la conversión a pulgadas, yardas, cm y metros. Toma en cuenta que un pie tiene 12 pulgadas y una pulgada equivale a 2.54 cm.\n",
    "\n",
    "# 3\n",
    "Escribir un programa que pregunte al usuario su nombre, edad, dirección y teléfono y lo guarde en un diccionario. Después debe mostrar por pantalla el mensaje <nombre> tiene <edad> años, vive en <dirección> y su número de teléfono es <teléfono>.\n",
    "    \n",
    "# 4\n",
    "Escribir un programa que cree un diccionario vacío y lo vaya llenado con información sobre una persona (por ejemplo nombre, edad, sexo, teléfono, correo electrónico, etc.) que se le pida al usuario. Cada vez que se añada un nuevo dato debe imprimirse el contenido del diccionario.\n",
    "    \n",
    "# 5\n",
    "Escribir una función que simule una calculadora científica que permita calcular el seno, coseno, tangente, exponencial y logaritmo neperiano. La función preguntará al usuario el valor y la función a aplicar, y mostrará por pantalla una tabla con los enteros de 1 al valor introducido y el resultado de aplicar la función a esos enteros."
   ]
  },
  {
   "cell_type": "code",
   "execution_count": 11,
   "metadata": {
    "scrolled": false
   },
   "outputs": [
    {
     "data": {
      "text/plain": [
       "['estudiante 1 ejercicio 1',\n",
       " 'estudiante 2 ejercicio 2',\n",
       " 'estudiante 3 ejercicio 3',\n",
       " 'estudiante 4 ejercicio 4',\n",
       " 'estudiante 5 ejercicio 5']"
      ]
     },
     "execution_count": 11,
     "metadata": {},
     "output_type": "execute_result"
    }
   ],
   "source": [
    "# Profesor\n",
    "import numpy as np\n",
    "ejercicios = np.tile(np.arange(1,6), 1)\n",
    "estudiantes = np.arange(1, 6)\n",
    "clase = []\n",
    "\n",
    "for est, ejer in zip(estudiantes, ejercicios):\n",
    "    clase.append(f'estudiante {est} ejercicio {ejer}')\n",
    "    \n",
    "clase"
   ]
  },
  {
   "cell_type": "markdown",
   "metadata": {},
   "source": [
    "\\begin{aligned}\n",
    "\\nabla \\times B &= \\int B dt \\\\\n",
    "\\dot x &= A x + B u, \\quad x \\in \\mathbb{R}^n\n",
    "\\end{aligned}"
   ]
  },
  {
   "cell_type": "code",
   "execution_count": null,
   "metadata": {},
   "outputs": [],
   "source": [
    "# 1 - ejercicio 1\n",
    "\n",
    "# DORIS GÓMEZ CONTRERAS\n",
    "\n",
    "\n",
    "#\n",
    "def FIBO(f):\n",
    "    a = 0\n",
    "    b = 1\n",
    "    for i in range(f):\n",
    "        x = a + b\n",
    "        a = b\n",
    "        b = x\n",
    "    return b\n",
    "\n",
    "for y in range(8):\n",
    "    print(FIBO(y))\n",
    "            \n",
    "        "
   ]
  },
  {
   "cell_type": "code",
   "execution_count": 2,
   "metadata": {},
   "outputs": [
    {
     "name": "stdout",
     "output_type": "stream",
     "text": [
      "Introduce la medida en pies:12\n",
      "La medida 144.0 en pies, son aproximadamente 144.0 pulgadas 365.76 centimetros 47.52 yardas y 3.6576 metros\n"
     ]
    }
   ],
   "source": [
    "# 2 - Ejercicio 2 \n",
    "# Nicolas Gonzalez\n",
    "# Elabora un programa que solicite la medida en Pies y realice la conversión a pulgadas, yardas, cm y metros. \n",
    "# Toma en cuenta que un pie tiene 12 pulgadas y una pulgada equivale a 2.54 cm.\n",
    "\n",
    "ft = float(input(\"Introduce la medida en pies:\"))\n",
    "\n",
    "p = ft * 12\n",
    "cm = p * 2.54\n",
    "y = p * 0.33\n",
    "m = cm / 100\n",
    "\n",
    "\n",
    "print('La medida', p, 'en pies, son aproximadamente', \n",
    "      p, 'pulgadas', cm, 'centimetros', y, 'yardas y',\n",
    "      m, 'metros')\n",
    "\n",
    "# Comentarios entrega Nicolas"
   ]
  },
  {
   "cell_type": "code",
   "execution_count": null,
   "metadata": {},
   "outputs": [],
   "source": [
    "# 3 - ejercicio 3"
   ]
  },
  {
   "cell_type": "code",
   "execution_count": 6,
   "metadata": {},
   "outputs": [
    {
     "name": "stdout",
     "output_type": "stream",
     "text": [
      "Nombre =Ricardo\n",
      "Edad =21\n",
      "Sexo =M\n",
      "Telefono =123454321\n",
      "Correo =Cirreo@gmail.com\n"
     ]
    },
    {
     "data": {
      "text/plain": [
       "['Nombre =',\n",
       " 'Ricardo',\n",
       " 'Edad =',\n",
       " '21',\n",
       " 'Sexo =',\n",
       " 'M',\n",
       " 'Telefono =',\n",
       " '123454321',\n",
       " 'Correo =',\n",
       " 'Cirreo@gmail.com']"
      ]
     },
     "execution_count": 6,
     "metadata": {},
     "output_type": "execute_result"
    }
   ],
   "source": [
    "# 4 - ejercicio 4\n",
    "# Ricardo Rodriguez \n",
    "import numpy as np\n",
    "N = input('Nombre =')\n",
    "E = input('Edad =')\n",
    "S = input('Sexo =')\n",
    "T = input('Telefono =')\n",
    "C = input('Correo =')\n",
    "\n",
    "Diccionario=['Nombre =', N, 'Edad =', E, 'Sexo =', S, 'Telefono =', T, 'Correo =', C]\n",
    "Diccionario"
   ]
  },
  {
   "cell_type": "code",
   "execution_count": null,
   "metadata": {},
   "outputs": [],
   "source": [
    "# 5 - ejercicio 5"
   ]
  }
 ],
 "metadata": {
  "kernelspec": {
   "display_name": "Python 3",
   "language": "python",
   "name": "python3"
  },
  "language_info": {
   "codemirror_mode": {
    "name": "ipython",
    "version": 3
   },
   "file_extension": ".py",
   "mimetype": "text/x-python",
   "name": "python",
   "nbconvert_exporter": "python",
   "pygments_lexer": "ipython3",
   "version": "3.7.6"
  }
 },
 "nbformat": 4,
 "nbformat_minor": 4
}
